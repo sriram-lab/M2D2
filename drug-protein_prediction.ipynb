{
 "cells": [
  {
   "cell_type": "markdown",
   "metadata": {
    "id": "ZN6Fx2jt9x5f"
   },
   "source": [
    "This file predicts drug-target interactions using M2D2 stage 1 ML. The BindingDB database is used for training data. Instead of drugs any chemical compound with a SMILES structure can be used. The BindingDB database is primarily full of drug - protein interaction data. \n",
    "\n",
    "In this file, we read in drugs (or chemical compound of interest), target of interest (proteins), generate drug-protein interaction model from the BindingDB dataset. Use the model to predict drug-target protein interaction.\n",
    "\n",
    "Input files required:\n",
    "Encoding for compounds of interest (this code uses MACCS keys --> \"original_MACCS.pkl\")\n",
    "Encoding for target of interest (this code is written for proteins encoded with PseaudoAAC --> \"ecoli_4087.pkl\") \n",
    "\n",
    "\n"
   ]
  },
  {
   "cell_type": "code",
   "execution_count": 1,
   "metadata": {
    "executionInfo": {
     "elapsed": 2573,
     "status": "ok",
     "timestamp": 1710786280736,
     "user": {
      "displayName": "Margaret Reuter",
      "userId": "17038821517507907646"
     },
     "user_tz": 240
    },
    "id": "K-RT5dud-O1U"
   },
   "outputs": [],
   "source": [
    "import pandas as pd\n",
    "from sklearn.model_selection import train_test_split\n",
    "import numpy as np\n",
    "import pickle\n",
    "from sklearn.ensemble import RandomForestRegressor\n",
    "from sklearn.ensemble import RandomForestClassifier\n",
    "from sklearn.inspection import permutation_importance\n",
    "from sklearn import metrics\n",
    "from sklearn.datasets import make_classification\n",
    "from sklearn.metrics import PrecisionRecallDisplay\n",
    "import json"
   ]
  },
  {
   "cell_type": "code",
   "execution_count": 6,
   "metadata": {
    "executionInfo": {
     "elapsed": 154,
     "status": "ok",
     "timestamp": 1710787127591,
     "user": {
      "displayName": "Margaret Reuter",
      "userId": "17038821517507907646"
     },
     "user_tz": 240
    },
    "id": "qiG0wT5gJRzS"
   },
   "outputs": [],
   "source": [
    "target_data = pd.read_pickle(\"ecoli_4087_pseudoAAC.pkl\")\n",
    "# remove any duplicate sequences\n",
    "# final format rows: proteins, columns: Target Sequence, PseudoAAC\n",
    "# each protein has one Target Sequence amino acid sequence and 30 encodings that make up the PseudoAAC column\n",
    "target_map = target_data.drop_duplicates(subset=['Target Sequence'])"
   ]
  },
  {
   "cell_type": "code",
   "execution_count": 8,
   "metadata": {
    "executionInfo": {
     "elapsed": 754,
     "status": "ok",
     "timestamp": 1710787131909,
     "user": {
      "displayName": "Margaret Reuter",
      "userId": "17038821517507907646"
     },
     "user_tz": 240
    },
    "id": "a5K0EmwMu5Pp"
   },
   "outputs": [],
   "source": [
    "drug_map = pd.read_pickle(\"drugs_MACCS.pkl\")\n",
    "# final format rows: compounds columns: Full name, docking abbrev (3/4 letter code), SMILES structure, MACCS encoding (67 values for each compound)"
   ]
  },
  {
   "cell_type": "code",
   "execution_count": 11,
   "metadata": {
    "executionInfo": {
     "elapsed": 1563,
     "status": "ok",
     "timestamp": 1710787138327,
     "user": {
      "displayName": "Margaret Reuter",
      "userId": "17038821517507907646"
     },
     "user_tz": 240
    },
    "id": "Gc75hJEwyG9u"
   },
   "outputs": [],
   "source": [
    "# combine compound and target encodings. MAACS for compounds, PseudoAAC for targets\n",
    "drug_encoding = \"MACCS\"\n",
    "target_encoding = \"PseudoAAC\"\n",
    "drug_identifier_name = \"docking abbrev\"\n",
    "drug_SMILES = \"SMILES\"\n",
    "drug_df_arr=[]\n",
    "\n",
    "for i in range(len(drug_map)):\n",
    "  # Can print names to ensure you have all the compounds  required\n",
    "  # print(drug_map[drug_identifier_name][i])\n",
    "  new_df = target_map.copy() # copy pseudoAAC\n",
    "  new_df[\"SMILES\"] = drug_map[drug_SMILES][i]\n",
    "  new_encoding = np.tile(drug_map[drug_encoding][i], (len(target_map),1))  # Copy MACCS\n",
    "  new_df[drug_encoding] = new_encoding.tolist()\n",
    "  new_df[\"drug\"] = drug_map[drug_identifier_name][i]\n",
    "  drug_df_arr.append(new_df)"
   ]
  },
  {
   "cell_type": "code",
   "execution_count": 12,
   "metadata": {
    "colab": {
     "base_uri": "https://localhost:8080/",
     "height": 375
    },
    "executionInfo": {
     "elapsed": 176,
     "status": "ok",
     "timestamp": 1710787140914,
     "user": {
      "displayName": "Margaret Reuter",
      "userId": "17038821517507907646"
     },
     "user_tz": 240
    },
    "id": "TyzTmE5Upa1Y",
    "outputId": "ead8c351-0800-4bcd-abcd-eabbd97faa63"
   },
   "outputs": [
    {
     "data": {
      "text/html": [
       "<div>\n",
       "<style scoped>\n",
       "    .dataframe tbody tr th:only-of-type {\n",
       "        vertical-align: middle;\n",
       "    }\n",
       "\n",
       "    .dataframe tbody tr th {\n",
       "        vertical-align: top;\n",
       "    }\n",
       "\n",
       "    .dataframe thead th {\n",
       "        text-align: right;\n",
       "    }\n",
       "</style>\n",
       "<table border=\"1\" class=\"dataframe\">\n",
       "  <thead>\n",
       "    <tr style=\"text-align: right;\">\n",
       "      <th></th>\n",
       "      <th>Target Sequence</th>\n",
       "      <th>PseudoAAC</th>\n",
       "      <th>SMILES</th>\n",
       "      <th>MACCS</th>\n",
       "      <th>drug</th>\n",
       "    </tr>\n",
       "  </thead>\n",
       "  <tbody>\n",
       "    <tr>\n",
       "      <th>0</th>\n",
       "      <td>MKRISTTITTTITITTGNGAG</td>\n",
       "      <td>[0.03, 0.03, 0.03, 0.0, 0.0, 0.0, 0.0, 0.09, 0...</td>\n",
       "      <td>C1C(C(C(C(C1NC(=O)C(CCN)O)OC2C(C(C(C(O2)CO)O)N...</td>\n",
       "      <td>[0, 0, 0, 0, 0, 0, 0, 0, 0, 0, 0, 0, 0, 0, 0, ...</td>\n",
       "      <td>AMK</td>\n",
       "    </tr>\n",
       "    <tr>\n",
       "      <th>1</th>\n",
       "      <td>MRVLKFGGTSVANAERFLRVADILESNARQGQVATVLSAPAKITNH...</td>\n",
       "      <td>[0.056, 0.028, 0.023, 0.027, 0.008, 0.033, 0.0...</td>\n",
       "      <td>C1C(C(C(C(C1NC(=O)C(CCN)O)OC2C(C(C(C(O2)CO)O)N...</td>\n",
       "      <td>[0, 0, 0, 0, 0, 0, 0, 0, 0, 0, 0, 0, 0, 0, 0, ...</td>\n",
       "      <td>AMK</td>\n",
       "    </tr>\n",
       "  </tbody>\n",
       "</table>\n",
       "</div>"
      ],
      "text/plain": [
       "                                     Target Sequence  \\\n",
       "0                              MKRISTTITTTITITTGNGAG   \n",
       "1  MRVLKFGGTSVANAERFLRVADILESNARQGQVATVLSAPAKITNH...   \n",
       "\n",
       "                                           PseudoAAC  \\\n",
       "0  [0.03, 0.03, 0.03, 0.0, 0.0, 0.0, 0.0, 0.09, 0...   \n",
       "1  [0.056, 0.028, 0.023, 0.027, 0.008, 0.033, 0.0...   \n",
       "\n",
       "                                              SMILES  \\\n",
       "0  C1C(C(C(C(C1NC(=O)C(CCN)O)OC2C(C(C(C(O2)CO)O)N...   \n",
       "1  C1C(C(C(C(C1NC(=O)C(CCN)O)OC2C(C(C(C(O2)CO)O)N...   \n",
       "\n",
       "                                               MACCS drug  \n",
       "0  [0, 0, 0, 0, 0, 0, 0, 0, 0, 0, 0, 0, 0, 0, 0, ...  AMK  \n",
       "1  [0, 0, 0, 0, 0, 0, 0, 0, 0, 0, 0, 0, 0, 0, 0, ...  AMK  "
      ]
     },
     "execution_count": 12,
     "metadata": {},
     "output_type": "execute_result"
    }
   ],
   "source": [
    "# drug_df_arr is a list of dataframes for each drug. Each of the dataframes contains the protein target sequence, PseudoAAC (protein encoding), SMILES/MACCS encoding for that dataframe's drug\n",
    "# note that the SMILES/MACCS repeat for each protein\n",
    "# example for first two proteins of first drug of interest\n",
    "drug_df_arr[1].head(2)"
   ]
  },
  {
   "cell_type": "code",
   "execution_count": 13,
   "metadata": {
    "colab": {
     "base_uri": "https://localhost:8080/"
    },
    "executionInfo": {
     "elapsed": 138,
     "status": "ok",
     "timestamp": 1710787146074,
     "user": {
      "displayName": "Margaret Reuter",
      "userId": "17038821517507907646"
     },
     "user_tz": 240
    },
    "id": "MgrNs6UTy_Tj",
    "outputId": "15b7b767-04a0-4604-d256-7177e286aa7c"
   },
   "outputs": [
    {
     "data": {
      "text/plain": [
       "58"
      ]
     },
     "execution_count": 13,
     "metadata": {},
     "output_type": "execute_result"
    }
   ],
   "source": [
    "# check # of compounds in dataset\n",
    "len(drug_df_arr)"
   ]
  },
  {
   "cell_type": "code",
   "execution_count": 14,
   "metadata": {
    "executionInfo": {
     "elapsed": 258,
     "status": "ok",
     "timestamp": 1710787149185,
     "user": {
      "displayName": "Margaret Reuter",
      "userId": "17038821517507907646"
     },
     "user_tz": 240
    },
    "id": "lLyB8Uvw1Mm2"
   },
   "outputs": [],
   "source": [
    "# specific labels in training data pkl file, \n",
    "# note that there are other encodings available for training data\n",
    "training_drug_encoding = \"MACCS\"\n",
    "training_protein_encoding = \"PseudoAAC(target)\""
   ]
  },
  {
   "cell_type": "code",
   "execution_count": 15,
   "metadata": {
    "colab": {
     "base_uri": "https://localhost:8080/",
     "height": 445
    },
    "executionInfo": {
     "elapsed": 7445,
     "status": "ok",
     "timestamp": 1710787159444,
     "user": {
      "displayName": "Margaret Reuter",
      "userId": "17038821517507907646"
     },
     "user_tz": 240
    },
    "id": "LOZaicao3oll",
    "outputId": "3457fd94-fb71-4718-f545-9f8e02ab8dd7"
   },
   "outputs": [
    {
     "data": {
      "text/html": [
       "<div>\n",
       "<style scoped>\n",
       "    .dataframe tbody tr th:only-of-type {\n",
       "        vertical-align: middle;\n",
       "    }\n",
       "\n",
       "    .dataframe tbody tr th {\n",
       "        vertical-align: top;\n",
       "    }\n",
       "\n",
       "    .dataframe thead th {\n",
       "        text-align: right;\n",
       "    }\n",
       "</style>\n",
       "<table border=\"1\" class=\"dataframe\">\n",
       "  <thead>\n",
       "    <tr style=\"text-align: right;\">\n",
       "      <th></th>\n",
       "      <th>SMILES</th>\n",
       "      <th>Target Sequence</th>\n",
       "      <th>Label</th>\n",
       "      <th>Transformer(target)</th>\n",
       "      <th>Conjoint_triad(target)</th>\n",
       "      <th>PseudoAAC(target)</th>\n",
       "      <th>Morgan</th>\n",
       "      <th>Pubchem</th>\n",
       "      <th>Transformer</th>\n",
       "      <th>ErG</th>\n",
       "      <th>Daylight</th>\n",
       "      <th>MACCS</th>\n",
       "    </tr>\n",
       "  </thead>\n",
       "  <tbody>\n",
       "    <tr>\n",
       "      <th>0</th>\n",
       "      <td>Cc1ccc(CNS(=O)(=O)c2ccc(s2)S(N)(=O)=O)cc1</td>\n",
       "      <td>MSHHWGYGKHNGPEHWHKDFPIAKGERQSPVDIDTHTAKYDPSLKP...</td>\n",
       "      <td>0.46</td>\n",
       "      <td>([139, 270, 224, 108, 211, 81, 65, 717, 2351, ...</td>\n",
       "      <td>[0, 3, 1, 1, 0, 2, 0, 2, 3, 0, 2, 3, 2, 0, 2, ...</td>\n",
       "      <td>[0.025, 0.014, 0.019, 0.037, 0.002, 0.025, 0.0...</td>\n",
       "      <td>[0.0, 0.0, 0.0, 0.0, 0.0, 0.0, 0.0, 0.0, 0.0, ...</td>\n",
       "      <td>[0, 0, 0, 0, 0, 0, 0, 0, 0, 1, 0, 0, 0, 0, 1, ...</td>\n",
       "      <td>([757, 286, 178, 965, 22, 763, 1049, 123, 0, 0...</td>\n",
       "      <td>[0.0, 0.0, 0.0, 0.0, 0.3, 1.0, 0.3, 0.0, 0.0, ...</td>\n",
       "      <td>[0.0, 0.0, 1.0, 1.0, 0.0, 0.0, 0.0, 0.0, 0.0, ...</td>\n",
       "      <td>[0, 0, 0, 0, 0, 0, 0, 0, 0, 0, 0, 0, 0, 0, 0, ...</td>\n",
       "    </tr>\n",
       "    <tr>\n",
       "      <th>1</th>\n",
       "      <td>COc1ccc(CNS(=O)(=O)c2ccc(s2)S(N)(=O)=O)cc1</td>\n",
       "      <td>MSHHWGYGKHNGPEHWHKDFPIAKGERQSPVDIDTHTAKYDPSLKP...</td>\n",
       "      <td>0.49</td>\n",
       "      <td>([139, 270, 224, 108, 211, 81, 65, 717, 2351, ...</td>\n",
       "      <td>[0, 3, 1, 1, 0, 2, 0, 2, 3, 0, 2, 3, 2, 0, 2, ...</td>\n",
       "      <td>[0.025, 0.014, 0.019, 0.037, 0.002, 0.025, 0.0...</td>\n",
       "      <td>[0.0, 0.0, 0.0, 0.0, 0.0, 0.0, 0.0, 0.0, 0.0, ...</td>\n",
       "      <td>[0, 0, 0, 0, 0, 0, 0, 0, 0, 1, 0, 0, 0, 0, 1, ...</td>\n",
       "      <td>([467, 286, 178, 965, 22, 763, 1049, 123, 0, 0...</td>\n",
       "      <td>[0.0, 0.0, 0.0, 0.0, 0.3, 1.0, 0.3, 0.0, 0.0, ...</td>\n",
       "      <td>[0.0, 1.0, 1.0, 1.0, 0.0, 0.0, 0.0, 0.0, 0.0, ...</td>\n",
       "      <td>[0, 0, 0, 0, 0, 0, 0, 0, 0, 0, 0, 0, 0, 0, 0, ...</td>\n",
       "    </tr>\n",
       "  </tbody>\n",
       "</table>\n",
       "</div>"
      ],
      "text/plain": [
       "                                       SMILES  \\\n",
       "0   Cc1ccc(CNS(=O)(=O)c2ccc(s2)S(N)(=O)=O)cc1   \n",
       "1  COc1ccc(CNS(=O)(=O)c2ccc(s2)S(N)(=O)=O)cc1   \n",
       "\n",
       "                                     Target Sequence  Label  \\\n",
       "0  MSHHWGYGKHNGPEHWHKDFPIAKGERQSPVDIDTHTAKYDPSLKP...   0.46   \n",
       "1  MSHHWGYGKHNGPEHWHKDFPIAKGERQSPVDIDTHTAKYDPSLKP...   0.49   \n",
       "\n",
       "                                 Transformer(target)  \\\n",
       "0  ([139, 270, 224, 108, 211, 81, 65, 717, 2351, ...   \n",
       "1  ([139, 270, 224, 108, 211, 81, 65, 717, 2351, ...   \n",
       "\n",
       "                              Conjoint_triad(target)  \\\n",
       "0  [0, 3, 1, 1, 0, 2, 0, 2, 3, 0, 2, 3, 2, 0, 2, ...   \n",
       "1  [0, 3, 1, 1, 0, 2, 0, 2, 3, 0, 2, 3, 2, 0, 2, ...   \n",
       "\n",
       "                                   PseudoAAC(target)  \\\n",
       "0  [0.025, 0.014, 0.019, 0.037, 0.002, 0.025, 0.0...   \n",
       "1  [0.025, 0.014, 0.019, 0.037, 0.002, 0.025, 0.0...   \n",
       "\n",
       "                                              Morgan  \\\n",
       "0  [0.0, 0.0, 0.0, 0.0, 0.0, 0.0, 0.0, 0.0, 0.0, ...   \n",
       "1  [0.0, 0.0, 0.0, 0.0, 0.0, 0.0, 0.0, 0.0, 0.0, ...   \n",
       "\n",
       "                                             Pubchem  \\\n",
       "0  [0, 0, 0, 0, 0, 0, 0, 0, 0, 1, 0, 0, 0, 0, 1, ...   \n",
       "1  [0, 0, 0, 0, 0, 0, 0, 0, 0, 1, 0, 0, 0, 0, 1, ...   \n",
       "\n",
       "                                         Transformer  \\\n",
       "0  ([757, 286, 178, 965, 22, 763, 1049, 123, 0, 0...   \n",
       "1  ([467, 286, 178, 965, 22, 763, 1049, 123, 0, 0...   \n",
       "\n",
       "                                                 ErG  \\\n",
       "0  [0.0, 0.0, 0.0, 0.0, 0.3, 1.0, 0.3, 0.0, 0.0, ...   \n",
       "1  [0.0, 0.0, 0.0, 0.0, 0.3, 1.0, 0.3, 0.0, 0.0, ...   \n",
       "\n",
       "                                            Daylight  \\\n",
       "0  [0.0, 0.0, 1.0, 1.0, 0.0, 0.0, 0.0, 0.0, 0.0, ...   \n",
       "1  [0.0, 1.0, 1.0, 1.0, 0.0, 0.0, 0.0, 0.0, 0.0, ...   \n",
       "\n",
       "                                               MACCS  \n",
       "0  [0, 0, 0, 0, 0, 0, 0, 0, 0, 0, 0, 0, 0, 0, 0, ...  \n",
       "1  [0, 0, 0, 0, 0, 0, 0, 0, 0, 0, 0, 0, 0, 0, 0, ...  "
      ]
     },
     "execution_count": 15,
     "metadata": {},
     "output_type": "execute_result"
    }
   ],
   "source": [
    "# training data from the BindingDB database\n",
    "# training data format: each row is a compound + target\n",
    "# column 1+2: compounds in SMILES, targets in Target Sequences (amino acid sequences)\n",
    "# column 3: Label (binding affinity, i.e. what we want to predict for test compounds)\n",
    "# remaining columns: all possible encodings for compound + target\n",
    "# encoding options:\n",
    "# Target: Transformer(target), Conjoint_triad(target), PseudoAAC(target)\n",
    "# Compound: Morgan, Pubchem, Transformer, ErG, Daylight, MACCS\n",
    "df = pd.read_pickle(\"bindingdb_merged_all.pkl\")\n",
    "\n",
    "df.head(2)"
   ]
  },
  {
   "cell_type": "code",
   "execution_count": 17,
   "metadata": {
    "executionInfo": {
     "elapsed": 23984,
     "status": "ok",
     "timestamp": 1710787190256,
     "user": {
      "displayName": "Margaret Reuter",
      "userId": "17038821517507907646"
     },
     "user_tz": 240
    },
    "id": "5nsXnkrh2LWr"
   },
   "outputs": [],
   "source": [
    "# TRAINING\n",
    "# note that drug and target encoding are defined above\n",
    "def apply_func_train(x):\n",
    "  try:\n",
    "    # Concatenate drug encoding and target (protein) encoding\n",
    "    combined = np.concatenate((x[training_drug_encoding],x[training_protein_encoding]))\n",
    "    error_count = 0\n",
    "    return combined, error_count\n",
    "\n",
    "  except:\n",
    "    # if a drug or target encoding missing note the error for deletion later\n",
    "    error_count = 1\n",
    "    return \"error\", error_count\n",
    "\n",
    "\n",
    "def load_and_process(dataset):\n",
    "  # reads in the training data file\n",
    "  df = pd.read_pickle(\"bindingdb_merged_all.pkl\")\n",
    "  # drops rows where either 'drug_encoding' or 'training_protein_encoding' is NaN\n",
    "  df.dropna(subset=[drug_encoding,training_protein_encoding],inplace=True)\n",
    "  # combines drug and protein encoding or returns error\n",
    "  df[['combined','error']] = df.apply(lambda x: pd.Series(apply_func_train(x)),axis=1)\n",
    "\n",
    "  # train_nonzero=train[train['Label']!=0]\n",
    "  # Filter out rows with 'error'\n",
    "  if (df['error'] == 1).any():\n",
    "    df = df[df['error']!=1]\n",
    "\n",
    "  # Convert features to numpy arrays\n",
    "  X=df.combined.tolist()\n",
    "  X=np.array(X)\n",
    "  Y=df['Label'].tolist()\n",
    "  y=np.array(Y)\n",
    "\n",
    "  # Print the binary labels\n",
    "  return X,Y\n",
    "\n",
    "# Load and process data from \"bindingdb\" dataset\n",
    "# X : encodings for compound + target\n",
    "# Y : binding affinity (Label)\n",
    "X,Y = load_and_process(\"bindingdb\")"
   ]
  },
  {
   "cell_type": "code",
   "execution_count": 18,
   "metadata": {
    "colab": {
     "base_uri": "https://localhost:8080/",
     "height": 75
    },
    "executionInfo": {
     "elapsed": 515264,
     "status": "ok",
     "timestamp": 1710787730600,
     "user": {
      "displayName": "Margaret Reuter",
      "userId": "17038821517507907646"
     },
     "user_tz": 240
    },
    "id": "i0OKTep8KmuA",
    "outputId": "3139440b-8480-4293-bcdc-fac101111758"
   },
   "outputs": [
    {
     "data": {
      "text/plain": [
       "RandomForestRegressor()"
      ]
     },
     "execution_count": 18,
     "metadata": {},
     "output_type": "execute_result"
    }
   ],
   "source": [
    "mydict = {}\n",
    "\n",
    "X_train = X\n",
    "Y_train = Y\n",
    "classifier = RandomForestRegressor(n_estimators=100)\n",
    "classifier.fit(X_train, Y_train)"
   ]
  },
  {
   "cell_type": "code",
   "execution_count": 19,
   "metadata": {
    "executionInfo": {
     "elapsed": 83854,
     "status": "ok",
     "timestamp": 1710788111054,
     "user": {
      "displayName": "Margaret Reuter",
      "userId": "17038821517507907646"
     },
     "user_tz": 240
    },
    "id": "OpoyxlBI8rtc"
   },
   "outputs": [],
   "source": [
    "def apply_func(x):\n",
    "  try:\n",
    "    combined = np.concatenate((x[drug_encoding],x[target_encoding]))\n",
    "    error_count = 0\n",
    "    return combined, error_count\n",
    "  except:\n",
    "    error_count = 1\n",
    "    return \"error\", error_count\n",
    "\n",
    "# for each compound/target pair\n",
    "for test_df in drug_df_arr:\n",
    "\n",
    "  # drop NaN rows\n",
    "  test_df.dropna(subset=[drug_encoding,target_encoding],inplace=True)\n",
    "\n",
    "  # combine protein and drug encodings via function above\n",
    "  test_df[['combined','error']] = test_df.apply(lambda x: pd.Series(apply_func(x)),axis=1)\n",
    "\n",
    "  if (test_df['error'] == 1).any():\n",
    "    test_df = test_df[test_df['error']!=1]\n",
    "\n",
    "  X_test=test_df.combined.tolist()\n",
    "  X_test=np.array(X_test)\n",
    "  y_pred = classifier.predict(X_test)\n",
    "  mydict[test_df.drug.iloc[0]] = y_pred"
   ]
  },
  {
   "cell_type": "code",
   "execution_count": 21,
   "metadata": {
    "executionInfo": {
     "elapsed": 2553,
     "status": "ok",
     "timestamp": 1710788469496,
     "user": {
      "displayName": "Margaret Reuter",
      "userId": "17038821517507907646"
     },
     "user_tz": 240
    },
    "id": "Uq78Qesd8E1U"
   },
   "outputs": [],
   "source": [
    "# Convert dictionary to DataFrame\n",
    "df = pd.DataFrame(mydict)\n",
    "\n",
    "# Save DataFrame to CSV\n",
    "df.to_csv(\"out.csv\" )"
   ]
  }
 ],
 "metadata": {
  "colab": {
   "authorship_tag": "ABX9TyMQa1uLdHSZnE3es9rGtCoh",
   "provenance": []
  },
  "kernelspec": {
   "display_name": "Python 3 (ipykernel)",
   "language": "python",
   "name": "python3"
  },
  "language_info": {
   "codemirror_mode": {
    "name": "ipython",
    "version": 3
   },
   "file_extension": ".py",
   "mimetype": "text/x-python",
   "name": "python",
   "nbconvert_exporter": "python",
   "pygments_lexer": "ipython3",
   "version": "3.9.13"
  }
 },
 "nbformat": 4,
 "nbformat_minor": 1
}
