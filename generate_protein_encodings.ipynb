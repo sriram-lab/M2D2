{
 "cells": [
  {
   "cell_type": "code",
   "execution_count": 7,
   "id": "90028598",
   "metadata": {},
   "outputs": [],
   "source": [
    "#from DeepPurpose import models\n",
    "# Huang, K. et al. DeepPurpose: a deep learning library for drug–target interaction prediction. Bioinformatics 1–6 (2020).\n",
    "from DeepPurpose.utils import *\n",
    "from DeepPurpose.dataset import *\n",
    "import numpy as np\n",
    "import pandas as pd\n",
    "from rdkit import Chem\n",
    "from rdkit.Chem import rdMolDescriptors\n",
    "from rdkit import DataStructs"
   ]
  },
  {
   "cell_type": "code",
   "execution_count": 13,
   "id": "121cd6c7",
   "metadata": {},
   "outputs": [],
   "source": [
    "# load amino acid sequences for each target of interest\n",
    "target_encoding_map = pd.read_excel(\"ecoli_4087_AAseq.xlsx\",header=0)"
   ]
  },
  {
   "cell_type": "code",
   "execution_count": 16,
   "id": "d7c3bf2b",
   "metadata": {},
   "outputs": [],
   "source": [
    "uni_target = target_encoding_map['Sequence']"
   ]
  },
  {
   "cell_type": "code",
   "execution_count": 18,
   "id": "165aa3e6",
   "metadata": {},
   "outputs": [],
   "source": [
    "# This step creates a place holder pseudo drug and label to fit in deep purpose\n",
    "psedosmiles=np.repeat(\"\",len(uni_target))\n",
    "pseudoy=np.ones(len(uni_target))"
   ]
  },
  {
   "cell_type": "code",
   "execution_count": 10,
   "id": "39efea72",
   "metadata": {},
   "outputs": [
    {
     "name": "stdout",
     "output_type": "stream",
     "text": [
      "Drug Target Interaction Prediction Mode...\n",
      "in total: 4087 drug-target pairs\n",
      "encoding drug...\n",
      "unique drugs: 1\n",
      "encoding protein...\n",
      "unique target sequence: 4087\n",
      "-- Encoding PseudoAAC takes time. Time Reference: 462s for ~100 sequences in a CPU.\t\t\t\t Calculate your time by the unique target sequence #, instead of the entire dataset.\n",
      "splitting dataset...\n",
      "Done.\n"
     ]
    }
   ],
   "source": [
    "# define your target encoding and drug encoding here\n",
    "# ususally we use PseodoAAC for drug encoding, but that takes some time to generate\n",
    "# if the target dataset is large, you can split it into smaller files and generate one by one\n",
    "# note that drug is a place holder\n",
    "drug_encoding, target_encoding = 'Pubchem', 'PseudoAAC'\n",
    "train, val, test = data_process(psedosmiles, uni_target, pseudoy,\n",
    "                                drug_encoding, target_encoding,\n",
    "                                split_method='random',\n",
    "                                frac=[1,0,0])"
   ]
  },
  {
   "cell_type": "code",
   "execution_count": 12,
   "id": "871b90d8",
   "metadata": {},
   "outputs": [
    {
     "data": {
      "text/html": [
       "<div>\n",
       "<style scoped>\n",
       "    .dataframe tbody tr th:only-of-type {\n",
       "        vertical-align: middle;\n",
       "    }\n",
       "\n",
       "    .dataframe tbody tr th {\n",
       "        vertical-align: top;\n",
       "    }\n",
       "\n",
       "    .dataframe thead th {\n",
       "        text-align: right;\n",
       "    }\n",
       "</style>\n",
       "<table border=\"1\" class=\"dataframe\">\n",
       "  <thead>\n",
       "    <tr style=\"text-align: right;\">\n",
       "      <th></th>\n",
       "      <th>Target Sequence</th>\n",
       "      <th>PseudoAAC</th>\n",
       "    </tr>\n",
       "  </thead>\n",
       "  <tbody>\n",
       "    <tr>\n",
       "      <th>0</th>\n",
       "      <td>MKRISTTITTTITITTGNGAG</td>\n",
       "      <td>[0.03, 0.03, 0.03, 0.0, 0.0, 0.0, 0.0, 0.09, 0...</td>\n",
       "    </tr>\n",
       "    <tr>\n",
       "      <th>1</th>\n",
       "      <td>MRVLKFGGTSVANAERFLRVADILESNARQGQVATVLSAPAKITNH...</td>\n",
       "      <td>[0.056, 0.028, 0.023, 0.027, 0.008, 0.033, 0.0...</td>\n",
       "    </tr>\n",
       "    <tr>\n",
       "      <th>2</th>\n",
       "      <td>MVKVYAPASSANMSVGFDVLGAAVTPVDGALLGDVVTVEAAETFSL...</td>\n",
       "      <td>[0.061, 0.028, 0.02, 0.022, 0.015, 0.035, 0.02...</td>\n",
       "    </tr>\n",
       "    <tr>\n",
       "      <th>3</th>\n",
       "      <td>MKLYNLKDHNEQVSFAQAVTQGLGKNQGLFFPHDLPEFSLTEIDEM...</td>\n",
       "      <td>[0.057, 0.021, 0.023, 0.029, 0.005, 0.035, 0.0...</td>\n",
       "    </tr>\n",
       "    <tr>\n",
       "      <th>4</th>\n",
       "      <td>MKKMQSIVLALSLVLVAPMAAQAAEITLVPSVKLQIGDRDNRGYYW...</td>\n",
       "      <td>[0.034, 0.034, 0.01, 0.025, 0.0, 0.01, 0.02, 0...</td>\n",
       "    </tr>\n",
       "    <tr>\n",
       "      <th>...</th>\n",
       "      <td>...</td>\n",
       "      <td>...</td>\n",
       "    </tr>\n",
       "    <tr>\n",
       "      <th>4082</th>\n",
       "      <td>MTDCRYLIKRVIKIIIAVLQLILLFL</td>\n",
       "      <td>[0.019, 0.039, 0.0, 0.019, 0.019, 0.0, 0.019, ...</td>\n",
       "    </tr>\n",
       "    <tr>\n",
       "      <th>4083</th>\n",
       "      <td>MRNRNLLKFLPGLLICLIVLTSCVPKQKNMPYALTQRSIPQILPLP...</td>\n",
       "      <td>[0.021, 0.021, 0.028, 0.0, 0.028, 0.028, 0.048...</td>\n",
       "    </tr>\n",
       "    <tr>\n",
       "      <th>4084</th>\n",
       "      <td>MKNRVYESLTTVFSVLVVSSFLYIWFATY</td>\n",
       "      <td>[0.02, 0.02, 0.02, 0.0, 0.0, 0.02, 0.0, 0.0, 0...</td>\n",
       "    </tr>\n",
       "    <tr>\n",
       "      <th>4085</th>\n",
       "      <td>MNEFKRCMRVFSHSPFKVRLMLLSMLCDMVNNKPQQDKPSDK</td>\n",
       "      <td>[0.0, 0.038, 0.038, 0.038, 0.026, 0.013, 0.026...</td>\n",
       "    </tr>\n",
       "    <tr>\n",
       "      <th>4086</th>\n",
       "      <td>MKPALRDFIAIVQERLASVTA</td>\n",
       "      <td>[0.089, 0.044, 0.0, 0.022, 0.0, 0.022, 0.022, ...</td>\n",
       "    </tr>\n",
       "  </tbody>\n",
       "</table>\n",
       "<p>4087 rows × 2 columns</p>\n",
       "</div>"
      ],
      "text/plain": [
       "                                        Target Sequence  \\\n",
       "0                                 MKRISTTITTTITITTGNGAG   \n",
       "1     MRVLKFGGTSVANAERFLRVADILESNARQGQVATVLSAPAKITNH...   \n",
       "2     MVKVYAPASSANMSVGFDVLGAAVTPVDGALLGDVVTVEAAETFSL...   \n",
       "3     MKLYNLKDHNEQVSFAQAVTQGLGKNQGLFFPHDLPEFSLTEIDEM...   \n",
       "4     MKKMQSIVLALSLVLVAPMAAQAAEITLVPSVKLQIGDRDNRGYYW...   \n",
       "...                                                 ...   \n",
       "4082                         MTDCRYLIKRVIKIIIAVLQLILLFL   \n",
       "4083  MRNRNLLKFLPGLLICLIVLTSCVPKQKNMPYALTQRSIPQILPLP...   \n",
       "4084                      MKNRVYESLTTVFSVLVVSSFLYIWFATY   \n",
       "4085         MNEFKRCMRVFSHSPFKVRLMLLSMLCDMVNNKPQQDKPSDK   \n",
       "4086                              MKPALRDFIAIVQERLASVTA   \n",
       "\n",
       "                                              PseudoAAC  \n",
       "0     [0.03, 0.03, 0.03, 0.0, 0.0, 0.0, 0.0, 0.09, 0...  \n",
       "1     [0.056, 0.028, 0.023, 0.027, 0.008, 0.033, 0.0...  \n",
       "2     [0.061, 0.028, 0.02, 0.022, 0.015, 0.035, 0.02...  \n",
       "3     [0.057, 0.021, 0.023, 0.029, 0.005, 0.035, 0.0...  \n",
       "4     [0.034, 0.034, 0.01, 0.025, 0.0, 0.01, 0.02, 0...  \n",
       "...                                                 ...  \n",
       "4082  [0.019, 0.039, 0.0, 0.019, 0.019, 0.0, 0.019, ...  \n",
       "4083  [0.021, 0.021, 0.028, 0.0, 0.028, 0.028, 0.048...  \n",
       "4084  [0.02, 0.02, 0.02, 0.0, 0.0, 0.02, 0.0, 0.0, 0...  \n",
       "4085  [0.0, 0.038, 0.038, 0.038, 0.026, 0.013, 0.026...  \n",
       "4086  [0.089, 0.044, 0.0, 0.022, 0.0, 0.022, 0.022, ...  \n",
       "\n",
       "[4087 rows x 2 columns]"
      ]
     },
     "execution_count": 12,
     "metadata": {},
     "output_type": "execute_result"
    }
   ],
   "source": [
    "# remove the place holder pseudo drug\n",
    "target_enc=train.drop(columns=[\"SMILES\",\"Label\",\"drug_encoding\"])\n",
    "target_enc = target_enc.rename(columns={\"target_encoding\": target_encoding})"
   ]
  },
  {
   "cell_type": "code",
   "execution_count": null,
   "id": "af4f49e6",
   "metadata": {},
   "outputs": [],
   "source": [
    "target_enc.to_pickle('ecoli_4087_pseudoAAC.pkl')"
   ]
  }
 ],
 "metadata": {
  "kernelspec": {
   "display_name": "Python 3 (ipykernel)",
   "language": "python",
   "name": "python3"
  },
  "language_info": {
   "codemirror_mode": {
    "name": "ipython",
    "version": 3
   },
   "file_extension": ".py",
   "mimetype": "text/x-python",
   "name": "python",
   "nbconvert_exporter": "python",
   "pygments_lexer": "ipython3",
   "version": "3.9.13"
  }
 },
 "nbformat": 4,
 "nbformat_minor": 5
}
